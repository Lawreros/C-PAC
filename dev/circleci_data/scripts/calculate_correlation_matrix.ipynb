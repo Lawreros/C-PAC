{
 "cells": [
  {
   "cell_type": "code",
   "execution_count": null,
   "metadata": {},
   "outputs": [],
   "source": [
    "%load_ext autoreload\n",
    "%autoreload 2\n",
    "\n",
    "import docker\n",
    "import git\n",
    "import os\n",
    "import subprocess\n",
    "import yaml\n",
    "\n",
    "from subprocess import PIPE, STDOUT\n",
    "\n",
    "from defaults import motion_list, regressor_list\n",
    "from subjects import generate_subject_list_for_range\n",
    "\n",
    "with open('../configs/cpac.yml', 'r') as config_file:\n",
    "    config_settings = yaml.safe_load(config_file)\n",
    "    \n",
    "cpac_dir = os.path.abspath(os.path.join(os.getcwd(), *[os.pardir for i in range(3)]))    \n",
    "n_cpus = 10\n",
    "pipeline_file = os.path.join(cpac_dir, 'dev/docker_data/default_pipeline.yml')\n",
    "tag = git.Repo(search_parent_directories=True).head.object.hexsha[:7]\n",
    "config_settings['this_run_outputs'] = os.path.abspath(f'~/outputs/{tag}')\n",
    "try:\n",
    "    os.makedirs(config_settings['this_run_outputs'], exist_ok=True)\n",
    "except PermissionError:\n",
    "    config_settings['this_run_outputs'] = os.path.abspath(f'~/outputs/{tag}')\n",
    "    os.makedirs(config_settings['this_run_outputs'], exist_ok=True)\n",
    "client = docker.from_env()\n",
    "client.images.build(path=cpac_dir, tag=f\"fcpindi/c-pac:{tag}\")"
   ]
  },
  {
   "cell_type": "code",
   "execution_count": null,
   "metadata": {},
   "outputs": [],
   "source": [
    "client = docker.from_env()\n",
    "client.images.build(path=cpac_dir, tag=f\"fcpindi/c-pac:{tag}\")"
   ]
  },
  {
   "cell_type": "code",
   "execution_count": null,
   "metadata": {
    "scrolled": true
   },
   "outputs": [],
   "source": [
    "subprocess.run(\n",
    "    \" \".join([\n",
    "        f\"docker run -v {config_settings['this_run_outputs']}:/outputs \"\n",
    "        f\"-v {config_settings['data_path']}:/bids_dataset:ro \"\n",
    "        f\"-v /data3/cnl/fmriprep/cpac_run/configs:/configs fcpindi/c-pac:{tag} \"\n",
    "        f\"/bids_dataset /outputs participant --pipeline_file {pipeline_file} \"\n",
    "        f\"--n_cpus {n_cpus} --save_working_dir --participant_label\",\n",
    "        *generate_subject_list_for_range(\n",
    "            (config_settings['subjects']['start'], config_settings['subjects']['stop'])\n",
    "        )\n",
    "    ]).split(\" \"),\n",
    "    stdout=PIPE,\n",
    "    stderr=STDOUT\n",
    ")"
   ]
  },
  {
   "cell_type": "code",
   "execution_count": null,
   "metadata": {},
   "outputs": [],
   "source": []
  }
 ],
 "metadata": {
  "kernelspec": {
   "display_name": "Python 3",
   "language": "python",
   "name": "python3"
  },
  "language_info": {
   "codemirror_mode": {
    "name": "ipython",
    "version": 3
   },
   "file_extension": ".py",
   "mimetype": "text/x-python",
   "name": "python",
   "nbconvert_exporter": "python",
   "pygments_lexer": "ipython3",
   "version": "3.7.4"
  }
 },
 "nbformat": 4,
 "nbformat_minor": 4
}
