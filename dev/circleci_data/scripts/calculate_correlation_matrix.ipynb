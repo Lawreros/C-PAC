{
 "cells": [
  {
   "cell_type": "code",
   "execution_count": 34,
   "metadata": {},
   "outputs": [
    {
     "name": "stdout",
     "output_type": "stream",
     "text": [
      "The autoreload extension is already loaded. To reload it, use:\n",
      "  %reload_ext autoreload\n"
     ]
    }
   ],
   "source": [
    "%load_ext autoreload\n",
    "%autoreload 2\n",
    "\n",
    "import docker\n",
    "import git\n",
    "import os\n",
    "import yaml\n",
    "\n",
    "from defaults import motion_list, regressor_list\n",
    "from subjects import generate_subject_list_for_range\n",
    "\n",
    "with open('../configs/cpac.yml', 'r') as config_file:\n",
    "    config_settings = yaml.safe_load(config_file)\n",
    "    \n",
    "cpac_dir = os.path.abspath(os.path.join(os.getcwd(), *[os.pardir for i in range(3)]))    \n",
    "n_cpus = 10\n",
    "pipeline_file = os.path.join(cpac_dir, 'dev/docker_data/default_pipeline.yml')\n",
    "tag = git.Repo(search_parent_directories=True).head.object.hexsha[:7]"
   ]
  },
  {
   "cell_type": "code",
   "execution_count": null,
   "metadata": {},
   "outputs": [],
   "source": []
  },
  {
   "cell_type": "code",
   "execution_count": 36,
   "metadata": {},
   "outputs": [
    {
     "ename": "BuildError",
     "evalue": "The command '/bin/sh -c apt-get install -y --no-install-recommends       fsl-core       fsl-atlases       fsl-mni152-templates' returned a non-zero code: 100",
     "output_type": "error",
     "traceback": [
      "\u001b[0;31m---------------------------------------------------------------------------\u001b[0m",
      "\u001b[0;31mBuildError\u001b[0m                                Traceback (most recent call last)",
      "\u001b[0;32m<ipython-input-36-6b2988349e45>\u001b[0m in \u001b[0;36m<module>\u001b[0;34m\u001b[0m\n\u001b[1;32m      1\u001b[0m \u001b[0mclient\u001b[0m \u001b[0;34m=\u001b[0m \u001b[0mdocker\u001b[0m\u001b[0;34m.\u001b[0m\u001b[0mfrom_env\u001b[0m\u001b[0;34m(\u001b[0m\u001b[0;34m)\u001b[0m\u001b[0;34m\u001b[0m\u001b[0;34m\u001b[0m\u001b[0m\n\u001b[1;32m      2\u001b[0m \u001b[0;34m\u001b[0m\u001b[0m\n\u001b[0;32m----> 3\u001b[0;31m \u001b[0mclient\u001b[0m\u001b[0;34m.\u001b[0m\u001b[0mimages\u001b[0m\u001b[0;34m.\u001b[0m\u001b[0mbuild\u001b[0m\u001b[0;34m(\u001b[0m\u001b[0mpath\u001b[0m\u001b[0;34m=\u001b[0m\u001b[0mcpac_dir\u001b[0m\u001b[0;34m,\u001b[0m \u001b[0mtag\u001b[0m\u001b[0;34m=\u001b[0m\u001b[0mtag\u001b[0m\u001b[0;34m)\u001b[0m\u001b[0;34m\u001b[0m\u001b[0;34m\u001b[0m\u001b[0m\n\u001b[0m",
      "\u001b[0;32m~/miniconda3/lib/python3.7/site-packages/docker/models/images.py\u001b[0m in \u001b[0;36mbuild\u001b[0;34m(self, **kwargs)\u001b[0m\n\u001b[1;32m    285\u001b[0m         \u001b[0;32mfor\u001b[0m \u001b[0mchunk\u001b[0m \u001b[0;32min\u001b[0m \u001b[0minternal_stream\u001b[0m\u001b[0;34m:\u001b[0m\u001b[0;34m\u001b[0m\u001b[0;34m\u001b[0m\u001b[0m\n\u001b[1;32m    286\u001b[0m             \u001b[0;32mif\u001b[0m \u001b[0;34m'error'\u001b[0m \u001b[0;32min\u001b[0m \u001b[0mchunk\u001b[0m\u001b[0;34m:\u001b[0m\u001b[0;34m\u001b[0m\u001b[0;34m\u001b[0m\u001b[0m\n\u001b[0;32m--> 287\u001b[0;31m                 \u001b[0;32mraise\u001b[0m \u001b[0mBuildError\u001b[0m\u001b[0;34m(\u001b[0m\u001b[0mchunk\u001b[0m\u001b[0;34m[\u001b[0m\u001b[0;34m'error'\u001b[0m\u001b[0;34m]\u001b[0m\u001b[0;34m,\u001b[0m \u001b[0mresult_stream\u001b[0m\u001b[0;34m)\u001b[0m\u001b[0;34m\u001b[0m\u001b[0;34m\u001b[0m\u001b[0m\n\u001b[0m\u001b[1;32m    288\u001b[0m             \u001b[0;32mif\u001b[0m \u001b[0;34m'stream'\u001b[0m \u001b[0;32min\u001b[0m \u001b[0mchunk\u001b[0m\u001b[0;34m:\u001b[0m\u001b[0;34m\u001b[0m\u001b[0;34m\u001b[0m\u001b[0m\n\u001b[1;32m    289\u001b[0m                 match = re.search(\n",
      "\u001b[0;31mBuildError\u001b[0m: The command '/bin/sh -c apt-get install -y --no-install-recommends       fsl-core       fsl-atlases       fsl-mni152-templates' returned a non-zero code: 100"
     ]
    }
   ],
   "source": [
    "client = docker.from_env()\n",
    "\n",
    "client.images.build(path=cpac_dir, tag=tag)"
   ]
  },
  {
   "cell_type": "code",
   "execution_count": 33,
   "metadata": {
    "scrolled": true
   },
   "outputs": [
    {
     "data": {
      "text/plain": [
       "'docker run -v /data3/cnl/auto-heatmaps/cpac_default:/outputs -v /data3/cnl/fmriprep/HNUdata/HNU30s:/bids_dataset -v /data3/cnl/fmriprep/cpac_run/configs:/configs fcpindi/c-pac:3a47f04 /bids_dataset /outputs participant --pipeline_file /home/jclucas/C-PAC/dev/docker_data/default_pipeline.yml --n_cpus 10 --participant_label sub-0025427 sub-0025428 sub-0025429 sub-0025430 sub-0025431 sub-0025432 sub-0025433 sub-0025434 sub-0025435 sub-0025436 sub-0025437 sub-0025438 sub-0025439 sub-0025440 sub-0025441 sub-0025442 sub-0025443 sub-0025444 sub-0025445 sub-0025446 sub-0025447 sub-0025448 sub-0025449 sub-0025450 sub-0025451 sub-0025452 sub-0025453 sub-0025454 sub-0025455 sub-0025456'"
      ]
     },
     "metadata": {},
     "output_type": "display_data"
    }
   ],
   "source": [
    "display(\" \".join([\n",
    "    f\"docker run -v {config_settings['this_run_outputs']}:/outputs \"\n",
    "    f\"-v {config_settings['data_path']}:/bids_dataset \"\n",
    "    f\"-v /data3/cnl/fmriprep/cpac_run/configs:/configs fcpindi/c-pac:{tag} \"\n",
    "    f\"/bids_dataset /outputs participant --pipeline_file {pipeline_file} --n_cpus {n_cpus} --participant_label\",\n",
    "    *generate_subject_list_for_range(\n",
    "        (config_settings['subjects']['start'], config_settings['subjects']['stop'])\n",
    "    )\n",
    "]))"
   ]
  },
  {
   "cell_type": "code",
   "execution_count": null,
   "metadata": {},
   "outputs": [],
   "source": []
  }
 ],
 "metadata": {
  "kernelspec": {
   "display_name": "Python 3",
   "language": "python",
   "name": "python3"
  },
  "language_info": {
   "codemirror_mode": {
    "name": "ipython",
    "version": 3
   },
   "file_extension": ".py",
   "mimetype": "text/x-python",
   "name": "python",
   "nbconvert_exporter": "python",
   "pygments_lexer": "ipython3",
   "version": "3.7.4"
  }
 },
 "nbformat": 4,
 "nbformat_minor": 4
}
