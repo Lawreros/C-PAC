{
 "cells": [
  {
   "cell_type": "code",
   "execution_count": null,
   "metadata": {},
   "outputs": [],
   "source": [
    "import matplotlib as mpl\n",
    "from matplotlib import pyplot as plt\n",
    "%matplotlib inline\n",
    "\n",
    "import numpy as np\n",
    "import pandas as pd\n",
    "\n",
    "from matplotlib import gridspec as GS\n",
    "from scipy import io as sio\n",
    "\n",
    "from .heatmaps import annotate_heatmap, heatmap"
   ]
  },
  {
   "cell_type": "code",
   "execution_count": null,
   "metadata": {},
   "outputs": [],
   "source": [
    "regressor_list = ['GS', 'CSF', 'WM', 'tCompCor0', 'aCompCor0', 'aCompCor1', 'aCompCor2', 'aCompCor3', 'aCompCor4'] \n",
    "motion_list = ['FD']\n",
    "var_list = regressor_list + motion_list\n",
    "\n",
    "# Change to your local path\n",
    "corrs = sio.loadmat('/Users/xinhui.li/cpac_fmriprep_benchmark/corrs/fmriprep_corrs.mat') \n",
    "corrs = corrs['corrs']\n",
    "corrs = abs(np.transpose(corrs))\n",
    "\n",
    "sub = range(25427,25457)\n",
    "ses = [1,2]\n",
    "sub_list = []\n",
    "\n",
    "for i in sub:\n",
    "  for j in ses:\n",
    "      sub_list.append('sub-00'+str(i)+'_ses-'+str(j))"
   ]
  },
  {
   "cell_type": "code",
   "execution_count": null,
   "metadata": {},
   "outputs": [],
   "source": [
    "fig, ax = plt.subplots(figsize = (50, 15))\n",
    "im, cbar = heatmap(corrs, var_list, sub_list, ax=ax, vmin=0, vmax=1, cbarlabel=\"correlation score\")\n",
    "texts = annotate_heatmap(im)\n",
    "fig.tight_layout()\n",
    "\n",
    "# plt.savefig('/Users/xinhui.li/cpac_fmriprep_benchmark/corrs/fmriprep.png')\n",
    "plt.show()"
   ]
  },
  {
   "cell_type": "code",
   "execution_count": null,
   "metadata": {},
   "outputs": [],
   "source": []
  }
 ],
 "metadata": {
  "file_extension": ".py",
  "kernelspec": {
   "display_name": "Python 3",
   "language": "python",
   "name": "python3"
  },
  "mimetype": "text/x-python",
  "name": "python",
  "npconvert_exporter": "python",
  "pygments_lexer": "ipython2",
  "version": 2
 },
 "nbformat": 4,
 "nbformat_minor": 2
}
